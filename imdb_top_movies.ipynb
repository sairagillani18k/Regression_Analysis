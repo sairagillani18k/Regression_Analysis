{
 "cells": [
  {
   "cell_type": "markdown",
   "metadata": {},
   "source": [
    "# Web Scrapping using Beautiful Soup (BS4 Library) to scrap top rated IMDB Movies from IMDB WEbsite"
   ]
  },
  {
   "cell_type": "code",
   "execution_count": 50,
   "metadata": {},
   "outputs": [],
   "source": [
    "# Required libraries\n",
    "from bs4 import BeautifulSoup\n",
    "import requests\n",
    "import pandas as pd\n",
    "import numpy as np"
   ]
  },
  {
   "cell_type": "code",
   "execution_count": 59,
   "metadata": {},
   "outputs": [],
   "source": [
    "# Extract HTML and parse it using BeautifulSoup\n",
    "try:\n",
    "    source = requests.get('https://www.imdb.com/chart/top/')\n",
    "    source.raise_for_status()\n",
    "    soup = BeautifulSoup(source.text,'html.parser')\n",
    "except Exception as e:\n",
    "    print(e)\n"
   ]
  },
  {
   "cell_type": "markdown",
   "metadata": {},
   "source": [
    "Soup object has HTML of complete Page, let's extract only the movies list part"
   ]
  },
  {
   "cell_type": "code",
   "execution_count": 61,
   "metadata": {},
   "outputs": [],
   "source": [
    "movies = soup.find('tbody', class_='lister-list').find_all('tr')"
   ]
  },
  {
   "cell_type": "code",
   "execution_count": 62,
   "metadata": {},
   "outputs": [
    {
     "data": {
      "text/plain": [
       "<tr>\n",
       "<td class=\"posterColumn\">\n",
       "<span data-value=\"1\" name=\"rk\"></span>\n",
       "<span data-value=\"9.221243521693388\" name=\"ir\"></span>\n",
       "<span data-value=\"7.791552E11\" name=\"us\"></span>\n",
       "<span data-value=\"2532245\" name=\"nv\"></span>\n",
       "<span data-value=\"-1.7787564783066117\" name=\"ur\"></span>\n",
       "<a href=\"/title/tt0111161/\"> <img alt=\"The Shawshank Redemption\" height=\"67\" src=\"https://m.media-amazon.com/images/M/MV5BMDFkYTc0MGEtZmNhMC00ZDIzLWFmNTEtODM1ZmRlYWMwMWFmXkEyXkFqcGdeQXVyMTMxODk2OTU@._V1_UY67_CR0,0,45,67_AL_.jpg\" width=\"45\"/>\n",
       "</a> </td>\n",
       "<td class=\"titleColumn\">\n",
       "      1.\n",
       "      <a href=\"/title/tt0111161/\" title=\"Frank Darabont (dir.), Tim Robbins, Morgan Freeman\">The Shawshank Redemption</a>\n",
       "<span class=\"secondaryInfo\">(1994)</span>\n",
       "</td>\n",
       "<td class=\"ratingColumn imdbRating\">\n",
       "<strong title=\"9.2 based on 2,532,245 user ratings\">9.2</strong>\n",
       "</td>\n",
       "<td class=\"ratingColumn\">\n",
       "<div class=\"seen-widget seen-widget-tt0111161 pending\" data-titleid=\"tt0111161\">\n",
       "<div class=\"boundary\">\n",
       "<div class=\"popover\">\n",
       "<span class=\"delete\"> </span><ol><li>1<li>2<li>3<li>4<li>5<li>6<li>7<li>8<li>9<li>10</li></li></li></li></li></li></li></li></li></li></ol> </div>\n",
       "</div>\n",
       "<div class=\"inline\">\n",
       "<div class=\"pending\"></div>\n",
       "<div class=\"unseeable\">NOT YET RELEASED</div>\n",
       "<div class=\"unseen\"> </div>\n",
       "<div class=\"rating\"></div>\n",
       "<div class=\"seen\">Seen</div>\n",
       "</div>\n",
       "</div>\n",
       "</td>\n",
       "<td class=\"watchlistColumn\">\n",
       "<div class=\"wlb_ribbon\" data-recordmetrics=\"true\" data-tconst=\"tt0111161\"></div>\n",
       "</td>\n",
       "</tr>"
      ]
     },
     "execution_count": 62,
     "metadata": {},
     "output_type": "execute_result"
    }
   ],
   "source": [
    "# Let's print HTMl of one movie to see how it looks like\n",
    "movies[0]"
   ]
  },
  {
   "cell_type": "markdown",
   "metadata": {},
   "source": [
    "Now we have the list of top-rated 250 movies, let's try to extract 4 important columns (rank, name, year, rating) out of this."
   ]
  },
  {
   "cell_type": "code",
   "execution_count": 63,
   "metadata": {},
   "outputs": [
    {
     "name": "stdout",
     "output_type": "stream",
     "text": [
      "250\n"
     ]
    }
   ],
   "source": [
    "# let's print length of list movies, to see how many movies are extracted\n",
    "print(len(movies))"
   ]
  },
  {
   "cell_type": "code",
   "execution_count": 64,
   "metadata": {},
   "outputs": [],
   "source": [
    "movies_data = []\n",
    "for movie in movies:\n",
    "    try:\n",
    "        name = movie.find('td', class_='titleColumn').a.text\n",
    "        rank = movie.find('td', class_='titleColumn').get_text(strip=True).split('.')[0]\n",
    "        year = movie.find('td', class_='titleColumn').span.text.strip('()')\n",
    "        rating = movie.find('td', class_=\"ratingColumn imdbRating\").strong.text\n",
    "        #print(name,rank,year,rating)\n",
    "        movies_data.append([rank, name,year,rating])\n",
    "    except Exception as e:\n",
    "        print(e)"
   ]
  },
  {
   "cell_type": "code",
   "execution_count": 65,
   "metadata": {},
   "outputs": [
    {
     "data": {
      "text/plain": [
       "[['1', 'The Shawshank Redemption', '1994', '9.2'],\n",
       " ['2', 'The Godfather', '1972', '9.1'],\n",
       " ['3', 'The Godfather: Part II', '1974', '9.0'],\n",
       " ['4', 'The Dark Knight', '2008', '9.0'],\n",
       " ['5', '12 Angry Men', '1957', '8.9']]"
      ]
     },
     "execution_count": 65,
     "metadata": {},
     "output_type": "execute_result"
    }
   ],
   "source": [
    "# Let's print first 5 rows in the list\n",
    "movies_data[0:5]"
   ]
  },
  {
   "cell_type": "markdown",
   "metadata": {},
   "source": [
    "This looks cool, we have data of top 5 movies"
   ]
  },
  {
   "cell_type": "code",
   "execution_count": 66,
   "metadata": {},
   "outputs": [
    {
     "data": {
      "text/html": [
       "<div>\n",
       "<style scoped>\n",
       "    .dataframe tbody tr th:only-of-type {\n",
       "        vertical-align: middle;\n",
       "    }\n",
       "\n",
       "    .dataframe tbody tr th {\n",
       "        vertical-align: top;\n",
       "    }\n",
       "\n",
       "    .dataframe thead th {\n",
       "        text-align: right;\n",
       "    }\n",
       "</style>\n",
       "<table border=\"1\" class=\"dataframe\">\n",
       "  <thead>\n",
       "    <tr style=\"text-align: right;\">\n",
       "      <th></th>\n",
       "      <th>Rank</th>\n",
       "      <th>Name</th>\n",
       "      <th>Year of Release</th>\n",
       "      <th>IMDB Rating</th>\n",
       "    </tr>\n",
       "  </thead>\n",
       "  <tbody>\n",
       "    <tr>\n",
       "      <th>0</th>\n",
       "      <td>1</td>\n",
       "      <td>The Shawshank Redemption</td>\n",
       "      <td>1994</td>\n",
       "      <td>9.2</td>\n",
       "    </tr>\n",
       "    <tr>\n",
       "      <th>1</th>\n",
       "      <td>2</td>\n",
       "      <td>The Godfather</td>\n",
       "      <td>1972</td>\n",
       "      <td>9.1</td>\n",
       "    </tr>\n",
       "    <tr>\n",
       "      <th>2</th>\n",
       "      <td>3</td>\n",
       "      <td>The Godfather: Part II</td>\n",
       "      <td>1974</td>\n",
       "      <td>9.0</td>\n",
       "    </tr>\n",
       "    <tr>\n",
       "      <th>3</th>\n",
       "      <td>4</td>\n",
       "      <td>The Dark Knight</td>\n",
       "      <td>2008</td>\n",
       "      <td>9.0</td>\n",
       "    </tr>\n",
       "    <tr>\n",
       "      <th>4</th>\n",
       "      <td>5</td>\n",
       "      <td>12 Angry Men</td>\n",
       "      <td>1957</td>\n",
       "      <td>8.9</td>\n",
       "    </tr>\n",
       "  </tbody>\n",
       "</table>\n",
       "</div>"
      ],
      "text/plain": [
       "  Rank                      Name Year of Release IMDB Rating\n",
       "0    1  The Shawshank Redemption            1994         9.2\n",
       "1    2             The Godfather            1972         9.1\n",
       "2    3    The Godfather: Part II            1974         9.0\n",
       "3    4           The Dark Knight            2008         9.0\n",
       "4    5              12 Angry Men            1957         8.9"
      ]
     },
     "execution_count": 66,
     "metadata": {},
     "output_type": "execute_result"
    }
   ],
   "source": [
    "# convert the list to DataFrame\n",
    "top_movies = pd.DataFrame(movies_data,columns =['Rank','Name','Year of Release','IMDB Rating'])\n",
    "top_movies.head()"
   ]
  },
  {
   "cell_type": "code",
   "execution_count": 67,
   "metadata": {},
   "outputs": [],
   "source": [
    "# Save the dataframe as csv to file system\n",
    "top_movies.to_csv('top_imdb_movies.csv')"
   ]
  },
  {
   "cell_type": "markdown",
   "metadata": {},
   "source": [
    "This is a very nice and clean code to scrap top 250 movies list from IMDB using BeautifulSoup library. Happy Coding"
   ]
  }
 ],
 "metadata": {
  "kernelspec": {
   "display_name": "Python 3",
   "language": "python",
   "name": "python3"
  },
  "language_info": {
   "codemirror_mode": {
    "name": "ipython",
    "version": 3
   },
   "file_extension": ".py",
   "mimetype": "text/x-python",
   "name": "python",
   "nbconvert_exporter": "python",
   "pygments_lexer": "ipython3",
   "version": "3.7.3"
  }
 },
 "nbformat": 4,
 "nbformat_minor": 2
}
